{
 "cells": [
  {
   "cell_type": "code",
   "execution_count": 1,
   "metadata": {},
   "outputs": [
    {
     "name": "stdout",
     "output_type": "stream",
     "text": [
      "陳信郎\n",
      "Arnold\n",
      "這是Person的實體陳信郎\n",
      "這是Person的實體Arnold\n"
     ]
    }
   ],
   "source": [
    "class Person():\n",
    "    def __init__(self,名字):\n",
    "        self.名字 = 名字\n",
    "\n",
    "    def __repr__(self) -> str:\n",
    "        return   f\"這是Person的實體{self.名字}\"\n",
    "\n",
    "名字 = \"陳信郎\"\n",
    "p1 = Person(名字)\n",
    "print(p1.名字)\n",
    "\n",
    "名字 = \"Arnold\"\n",
    "p2 = Person(名字)\n",
    "print(p2.名字)\n",
    "\n",
    "print(p1)\n",
    "print(p2)\n"
   ]
  }
 ],
 "metadata": {
  "kernelspec": {
   "display_name": "Python 3",
   "language": "python",
   "name": "python3"
  },
  "language_info": {
   "codemirror_mode": {
    "name": "ipython",
    "version": 3
   },
   "file_extension": ".py",
   "mimetype": "text/x-python",
   "name": "python",
   "nbconvert_exporter": "python",
   "pygments_lexer": "ipython3",
   "version": "3.10.14"
  }
 },
 "nbformat": 4,
 "nbformat_minor": 2
}
