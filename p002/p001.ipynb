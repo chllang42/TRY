{
 "cells": [
  {
   "cell_type": "code",
   "execution_count": 1,
   "metadata": {},
   "outputs": [
    {
     "name": "stdout",
     "output_type": "stream",
     "text": [
      "陳信郎\n",
      "Arnold\n",
      "這是Person的實體陳信郎\n",
      "這是Person的實體Arnold\n"
     ]
    }
   ],
   "source": [
    "class Person():\n",
    "    def __init__(self,名字):\n",
    "        self.名字 = 名字\n",
    "\n",
    "    def __repr__(self) -> str:\n",
    "        return   f\"這是Person的實體{self.名字}\"\n",
    "\n",
    "名字 = \"陳信郎\"\n",
    "p1 = Person(名字)\n",
    "print(p1.名字)\n",
    "\n",
    "名字 = \"Arnold\"\n",
    "p2 = Person(名字)\n",
    "print(p2.名字)\n",
    "\n",
    "print(p1)\n",
    "print(p2)\n"
   ]
  },
  {
   "cell_type": "code",
   "execution_count": 2,
   "metadata": {},
   "outputs": [
    {
     "name": "stdout",
     "output_type": "stream",
     "text": [
      "陳信郎\n",
      "Arnold\n",
      "這是個人資料的實體陳信郎\n",
      "這是個人資料的實體Arnold\n"
     ]
    }
   ],
   "source": [
    "class 個人資料():\n",
    "    def __init__(self,名字):\n",
    "        self.名字 = 名字\n",
    "\n",
    "    def __repr__(self) -> str:\n",
    "        return   f\"這是個人資料的實體{self.名字}\"\n",
    "\n",
    "名字 = \"陳信郎\"\n",
    "p1 = 個人資料(名字)\n",
    "print(p1.名字)\n",
    "\n",
    "名字 = \"Arnold\"\n",
    "p2 = 個人資料(名字)\n",
    "print(p2.名字)\n",
    "\n",
    "print(p1)\n",
    "print(p2)"
   ]
  },
  {
   "cell_type": "code",
   "execution_count": 24,
   "metadata": {},
   "outputs": [
    {
     "name": "stdout",
     "output_type": "stream",
     "text": [
      " 這是【個人分數】的實體\n",
      "我的名字是陳信郎,我是男生\n",
      "國文：100分\n",
      "數學：65分\n",
      "英文：60分\n",
      "總分：225分\n",
      "平均：75.0分\n",
      "\n",
      " 這是【個人分數】的實體\n",
      "我的名字是Arnold,我是女生\n",
      "國文：50分\n",
      "數學：6分\n",
      "英文：13分\n",
      "總分：69分\n",
      "平均：23.0分\n",
      "\n"
     ]
    }
   ],
   "source": [
    "class 個人姓名():\n",
    "    def __init__(self,名字,性別):\n",
    "        self.名字 = 名字\n",
    "        self.性別 = 性別\n",
    "\n",
    "    def __repr__(self) -> str:\n",
    "        return   f\"這是_個人姓名_的實體{self.名字}是{self.性別}\"\n",
    "    \n",
    "class 個人分數(個人姓名):   \n",
    "    def __init__(self,名字,性別,國文,數學,英文):\n",
    "        super().__init__(名字,性別)\n",
    "        self.國文 = 國文\n",
    "        self.數學 = 數學\n",
    "        self.英文 = 英文\n",
    "    \n",
    "    def __repr__(self) -> str:\n",
    "        回傳內容 = \" \"\n",
    "        回傳內容 += f\"這是【個人分數】的實體\\n\"\n",
    "        回傳內容 += f\"我的名字是{self.名字},我是{self.性別}\\n\"\n",
    "        回傳內容 += f\"國文：{self.國文}分\\n\"\n",
    "        回傳內容 += f\"數學：{self.數學}分\\n\"\n",
    "        回傳內容 += f\"英文：{self.英文}分\\n\"\n",
    "        回傳內容 += f\"總分：{str(self.國文 + self.數學 + self.英文)}分\\n\"\n",
    "        回傳內容 += f\"平均：{str((self.國文 + self.數學 + self.英文)/3)}分\\n\"\n",
    "\n",
    "        return 回傳內容\n",
    "\n",
    "名字 = \"陳信郎\"\n",
    "性別 = \"男生\"\n",
    "p1 = 個人分數(名字,性別,100,65,60)\n",
    "\n",
    "名字 = \"Arnold\"\n",
    "性別 = \"女生\"\n",
    "p2 = 個人分數(名字,性別,50,6,13)\n",
    "\n",
    "print(p1)\n",
    "print(p2)"
   ]
  }
 ],
 "metadata": {
  "kernelspec": {
   "display_name": "Python 3",
   "language": "python",
   "name": "python3"
  },
  "language_info": {
   "codemirror_mode": {
    "name": "ipython",
    "version": 3
   },
   "file_extension": ".py",
   "mimetype": "text/x-python",
   "name": "python",
   "nbconvert_exporter": "python",
   "pygments_lexer": "ipython3",
   "version": "3.10.14"
  }
 },
 "nbformat": 4,
 "nbformat_minor": 2
}
